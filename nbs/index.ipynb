{
 "cells": [
  {
   "cell_type": "markdown",
   "metadata": {},
   "source": [
    "# SPIVAE\n",
    "> Stochastic processes insights from VAE. Code for the paper: [Learning minimal representations of stochastic processes with variational autoencoders](https://doi.org/10.48550/arXiv.2307.11608)."
   ]
  },
  {
   "cell_type": "markdown",
   "metadata": {},
   "source": [
    "![Interpretable autoregressive β-VAE architecture.](fig1.png)"
   ]
  },
  {
   "cell_type": "markdown",
   "metadata": {},
   "source": [
    "[![](https://zenodo.org/badge/667817128.svg)](https://zenodo.org/doi/10.5281/zenodo.11572993)"
   ]
  },
  {
   "cell_type": "markdown",
   "metadata": {},
   "source": [
    "SPIVAE is a machine learning method to study stochastic processes. It tries to learn the probability distribution of input trajectories and permits us to interpret its functioning and generate new trajectories with controllable features.\n",
    "\n",
    "The approach was initially devised for the paper entitled [Learning minimal representations of stochastic processes with variational autoencoders](https://doi.org/10.48550/arXiv.2307.11608). We provide a [documented library](./source/data.html) and detailed [tutorials](./tutorials/training_fbm.html) to facilitate the reproduction of our research findings."
   ]
  },
  {
   "cell_type": "markdown",
   "metadata": {},
   "source": [
    "# Getting started"
   ]
  },
  {
   "cell_type": "markdown",
   "metadata": {},
   "source": [
    "To use this code as a library, you will need a system with `python>=3.10` and proceed with the installation. \n",
    "You can install SPIVAE by first cloning this repository in your file system:\n",
    "```\n",
    "git clone https://github.com/GabrielFernandezFernandez/SPIVAE.git\n",
    "cd SPIVAE\n",
    "pip install .\n",
    "```\n",
    "This will install all the necessary dependencies to make full use of the library.\n",
    "Make sure your file system has enough space to store the data files of some GBs."
   ]
  },
  {
   "cell_type": "markdown",
   "metadata": {},
   "source": [
    "# Cite us"
   ]
  },
  {
   "cell_type": "markdown",
   "metadata": {},
   "source": [
    "If you use this library, please give us credit.\n",
    "```\n",
    "@misc{fernandez2023learning,\n",
    "  title = {Learning Minimal Representations of Stochastic Processes with Variational Autoencoders},\n",
    "  author = {{Fern{\\'a}ndez-Fern{\\'a}ndez}, Gabriel and Manzo, Carlo and Lewenstein, Maciej and Dauphin, Alexandre and {Mu{\\~n}oz-Gil}, Gorka},\n",
    "  year = {2023},\n",
    "  month = jul,\n",
    "  number = {arXiv:2307.11608},\n",
    "  eprint = {2307.11608},\n",
    "  publisher = {{arXiv}},\n",
    "  doi = {10.48550/arXiv.2307.11608},\n",
    "  url = {http://arxiv.org/abs/2307.11608},\n",
    "  keywords  = {Soft Condensed Matter (cond-mat.soft),\n",
    "               Machine Learning (cs.LG),\n",
    "               Biological Physics (physics.bio-ph),\n",
    "               {Data Analysis, Statistics and Probability (physics.data-an)},\n",
    "               Quantitative Methods (q-bio.QM)}\n",
    "}\n",
    "```"
   ]
  }
 ],
 "metadata": {
  "kernelspec": {
   "display_name": "python3",
   "language": "python",
   "name": "python3"
  }
 },
 "nbformat": 4,
 "nbformat_minor": 4
}
