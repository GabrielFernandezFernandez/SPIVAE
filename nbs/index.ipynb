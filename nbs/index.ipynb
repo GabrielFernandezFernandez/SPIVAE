{
 "cells": [
  {
   "cell_type": "markdown",
   "metadata": {},
   "source": [
    "# SPIVAE\n",
    "\n",
    "> Stochastic processes insights from VAE. Code for the paper: Learning minimal representations of stochastic processes with variational autoencoders."
   ]
  },
  {
   "cell_type": "markdown",
   "metadata": {},
   "source": [
    "SPIVAE is a machine learning method to study stochastic processes. It tries to learn the probability distribution of input trajectories and permits us to interpret its functioning and generate new trajectories with controllable features.\n",
    "\n",
    "The approach was initially devised for the paper 'Learning minimal representations of stochastic processes with variational autoencoders'. We will provide a documented library and detailed tutorials to facilitate the reproduction of our research findings."
   ]
  }
 ],
 "metadata": {
  "kernelspec": {
   "display_name": "python3",
   "language": "python",
   "name": "python3"
  }
 },
 "nbformat": 4,
 "nbformat_minor": 4
}
